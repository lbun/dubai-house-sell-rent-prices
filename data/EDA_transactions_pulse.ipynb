{
 "cells": [
  {
   "cell_type": "code",
   "execution_count": 1,
   "id": "2eaacf50-c90a-473c-8ebf-75fbdb09f17a",
   "metadata": {},
   "outputs": [],
   "source": [
    "import pandas as pd"
   ]
  },
  {
   "cell_type": "code",
   "execution_count": 6,
   "id": "f9dc1554-1a24-4b21-852f-c872bb882764",
   "metadata": {},
   "outputs": [
    {
     "name": "stdout",
     "output_type": "stream",
     "text": [
      "Index(['transaction_id', 'procedure_id', 'trans_group_id', 'trans_group_ar',\n",
      "       'trans_group_en', 'procedure_name_ar', 'procedure_name_en',\n",
      "       'instance_date', 'property_type_id', 'property_type_ar',\n",
      "       'property_type_en', 'property_sub_type_id', 'property_sub_type_ar',\n",
      "       'property_sub_type_en', 'property_usage_ar', 'property_usage_en',\n",
      "       'reg_type_id', 'reg_type_ar', 'reg_type_en', 'area_id', 'area_name_ar',\n",
      "       'area_name_en', 'building_name_ar', 'building_name_en',\n",
      "       'project_number', 'project_name_ar', 'project_name_en',\n",
      "       'master_project_en', 'master_project_ar', 'nearest_landmark_ar',\n",
      "       'nearest_landmark_en', 'nearest_metro_ar', 'nearest_metro_en',\n",
      "       'nearest_mall_ar', 'nearest_mall_en', 'rooms_ar', 'rooms_en',\n",
      "       'has_parking', 'procedure_area', 'actual_worth', 'meter_sale_price',\n",
      "       'rent_value', 'meter_rent_price', 'no_of_parties_role_1',\n",
      "       'no_of_parties_role_2', 'no_of_parties_role_3'],\n",
      "      dtype='object')\n",
      "(1205281, 46)\n"
     ]
    },
    {
     "data": {
      "text/html": [
       "<div>\n",
       "<style scoped>\n",
       "    .dataframe tbody tr th:only-of-type {\n",
       "        vertical-align: middle;\n",
       "    }\n",
       "\n",
       "    .dataframe tbody tr th {\n",
       "        vertical-align: top;\n",
       "    }\n",
       "\n",
       "    .dataframe thead th {\n",
       "        text-align: right;\n",
       "    }\n",
       "</style>\n",
       "<table border=\"1\" class=\"dataframe\">\n",
       "  <thead>\n",
       "    <tr style=\"text-align: right;\">\n",
       "      <th></th>\n",
       "      <th>transaction_id</th>\n",
       "      <th>procedure_id</th>\n",
       "      <th>trans_group_id</th>\n",
       "      <th>trans_group_ar</th>\n",
       "      <th>trans_group_en</th>\n",
       "      <th>procedure_name_ar</th>\n",
       "      <th>procedure_name_en</th>\n",
       "      <th>instance_date</th>\n",
       "      <th>property_type_id</th>\n",
       "      <th>property_type_ar</th>\n",
       "      <th>...</th>\n",
       "      <th>rooms_en</th>\n",
       "      <th>has_parking</th>\n",
       "      <th>procedure_area</th>\n",
       "      <th>actual_worth</th>\n",
       "      <th>meter_sale_price</th>\n",
       "      <th>rent_value</th>\n",
       "      <th>meter_rent_price</th>\n",
       "      <th>no_of_parties_role_1</th>\n",
       "      <th>no_of_parties_role_2</th>\n",
       "      <th>no_of_parties_role_3</th>\n",
       "    </tr>\n",
       "  </thead>\n",
       "  <tbody>\n",
       "    <tr>\n",
       "      <th>0</th>\n",
       "      <td>1-11-2004-2099</td>\n",
       "      <td>11</td>\n",
       "      <td>1</td>\n",
       "      <td>مبايعات</td>\n",
       "      <td>Sales</td>\n",
       "      <td>بيع</td>\n",
       "      <td>Sell</td>\n",
       "      <td>04-10-2004</td>\n",
       "      <td>4</td>\n",
       "      <td>فيلا</td>\n",
       "      <td>...</td>\n",
       "      <td>None</td>\n",
       "      <td>0</td>\n",
       "      <td>860.28</td>\n",
       "      <td>4500000.0</td>\n",
       "      <td>5230.86</td>\n",
       "      <td>NaN</td>\n",
       "      <td>NaN</td>\n",
       "      <td>3.0</td>\n",
       "      <td>1.0</td>\n",
       "      <td>0.0</td>\n",
       "    </tr>\n",
       "    <tr>\n",
       "      <th>1</th>\n",
       "      <td>1-11-2011-6898</td>\n",
       "      <td>11</td>\n",
       "      <td>1</td>\n",
       "      <td>مبايعات</td>\n",
       "      <td>Sales</td>\n",
       "      <td>بيع</td>\n",
       "      <td>Sell</td>\n",
       "      <td>21-04-2011</td>\n",
       "      <td>3</td>\n",
       "      <td>وحدة</td>\n",
       "      <td>...</td>\n",
       "      <td>1 B/R</td>\n",
       "      <td>1</td>\n",
       "      <td>89.93</td>\n",
       "      <td>2008888.0</td>\n",
       "      <td>22338.35</td>\n",
       "      <td>NaN</td>\n",
       "      <td>NaN</td>\n",
       "      <td>1.0</td>\n",
       "      <td>1.0</td>\n",
       "      <td>0.0</td>\n",
       "    </tr>\n",
       "  </tbody>\n",
       "</table>\n",
       "<p>2 rows × 46 columns</p>\n",
       "</div>"
      ],
      "text/plain": [
       "   transaction_id  procedure_id  trans_group_id trans_group_ar trans_group_en  \\\n",
       "0  1-11-2004-2099            11               1        مبايعات          Sales   \n",
       "1  1-11-2011-6898            11               1        مبايعات          Sales   \n",
       "\n",
       "  procedure_name_ar procedure_name_en instance_date  property_type_id  \\\n",
       "0               بيع              Sell    04-10-2004                 4   \n",
       "1               بيع              Sell    21-04-2011                 3   \n",
       "\n",
       "  property_type_ar  ... rooms_en  has_parking procedure_area actual_worth  \\\n",
       "0             فيلا  ...     None            0         860.28    4500000.0   \n",
       "1             وحدة  ...    1 B/R            1          89.93    2008888.0   \n",
       "\n",
       "  meter_sale_price rent_value  meter_rent_price no_of_parties_role_1  \\\n",
       "0          5230.86        NaN               NaN                  3.0   \n",
       "1         22338.35        NaN               NaN                  1.0   \n",
       "\n",
       "  no_of_parties_role_2  no_of_parties_role_3  \n",
       "0                  1.0                   0.0  \n",
       "1                  1.0                   0.0  \n",
       "\n",
       "[2 rows x 46 columns]"
      ]
     },
     "execution_count": 6,
     "metadata": {},
     "output_type": "execute_result"
    }
   ],
   "source": [
    "df = pd.read_parquet(\"../data/Transactions.parquet\")\n",
    "print(df.columns)\n",
    "print(df.shape)\n",
    "df.head(2)"
   ]
  },
  {
   "cell_type": "code",
   "execution_count": 7,
   "id": "bba1ef41-55ec-48a6-a246-79aa1ac1231d",
   "metadata": {},
   "outputs": [
    {
     "data": {
      "text/plain": [
       "trans_group_en\n",
       "Gifts         43629\n",
       "Mortgages    254518\n",
       "Sales        907134\n",
       "dtype: int64"
      ]
     },
     "execution_count": 7,
     "metadata": {},
     "output_type": "execute_result"
    }
   ],
   "source": [
    "df.groupby(\"trans_group_en\").size()"
   ]
  },
  {
   "cell_type": "code",
   "execution_count": null,
   "id": "58d50061-bf90-4a20-859b-47f56e5537ff",
   "metadata": {},
   "outputs": [],
   "source": []
  }
 ],
 "metadata": {
  "kernelspec": {
   "display_name": "dubaiEnv",
   "language": "python",
   "name": "dubaienv"
  },
  "language_info": {
   "codemirror_mode": {
    "name": "ipython",
    "version": 3
   },
   "file_extension": ".py",
   "mimetype": "text/x-python",
   "name": "python",
   "nbconvert_exporter": "python",
   "pygments_lexer": "ipython3",
   "version": "3.9.0"
  }
 },
 "nbformat": 4,
 "nbformat_minor": 5
}
